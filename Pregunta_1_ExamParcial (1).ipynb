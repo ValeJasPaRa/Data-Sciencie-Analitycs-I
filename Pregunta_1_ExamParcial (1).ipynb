{
  "nbformat": 4,
  "nbformat_minor": 0,
  "metadata": {
    "colab": {
      "provenance": [],
      "toc_visible": true
    },
    "kernelspec": {
      "name": "python3",
      "display_name": "Python 3"
    },
    "language_info": {
      "name": "python"
    }
  },
  "cells": [
    {
      "cell_type": "code",
      "execution_count": null,
      "metadata": {
        "id": "jMFQvlD6ZXm_"
      },
      "outputs": [],
      "source": []
    },
    {
      "cell_type": "markdown",
      "source": [
        "# Nueva sección"
      ],
      "metadata": {
        "id": "9MmOeGHCZmkK"
      }
    },
    {
      "cell_type": "code",
      "source": [
        "\n",
        "\n",
        "horas_trabajadas = []\n",
        "dias = ['Lunes', 'Martes', 'Miércoles', 'Jueves', 'Viernes', 'Sábado']\n",
        "tarifa_por_hora = 50  # Dato no definido, tarifa supuesta por hora en soles para el programa\n",
        "\n",
        "print(\"--------BIENVENIDO--------\")\n",
        "for dia in dias:\n",
        "    horas = float(input(\"--> Ingrese las horas que trabajó el dia \" + dia + \": \"))\n",
        "    while horas < 0:\n",
        "        print(\"Inténtelo nuevamente.Las horas trabajadas no pueden ser negativas.\")\n",
        "        horas = float(input(\"Ingrese las horas que trabajó el dia \" + dia + \": \"))\n",
        "    horas_trabajadas.append(horas)\n",
        "\n",
        "sueldo_total = sum(horas_trabajadas) * tarifa_por_hora\n",
        "sueldo_total = round(sueldo_total, 2)\n",
        "\n",
        "print(\"Usted trabajó durante la semana \" + str(round(sum(horas_trabajadas)))+ \" horas aprox. --> Sueldo total ha recibir \" + str(sueldo_total) + \" soles\")\n",
        "\n",
        "if sueldo_total > 2000:\n",
        "    print(\"Trabajador con sueldo superior a los 2000 soles\")\n",
        "1"
      ],
      "metadata": {
        "id": "FNMKMgElZqXq",
        "colab": {
          "base_uri": "https://localhost:8080/"
        },
        "outputId": "796e7552-58fd-49d0-f833-869d04b3f16f"
      },
      "execution_count": 5,
      "outputs": [
        {
          "output_type": "stream",
          "name": "stdout",
          "text": [
            "--------BIENVENIDO--------\n",
            "--> Ingrese las horas que trabajó el dia Lunes: 10\n",
            "--> Ingrese las horas que trabajó el dia Martes: -200\n",
            "Inténtelo nuevamente.Las horas trabajadas no pueden ser negativas.\n",
            "Ingrese las horas que trabajó el dia Martes: -1\n",
            "Inténtelo nuevamente.Las horas trabajadas no pueden ser negativas.\n",
            "Ingrese las horas que trabajó el dia Martes: 0\n",
            "--> Ingrese las horas que trabajó el dia Miércoles: 10\n",
            "--> Ingrese las horas que trabajó el dia Jueves: 0\n",
            "--> Ingrese las horas que trabajó el dia Viernes: 10\n",
            "--> Ingrese las horas que trabajó el dia Sábado: 50\n",
            "Usted trabajó durante la semana 80 horas aprox. --> Sueldo total ha recibir 4000.0 soles\n",
            "Trabajador con sueldo superior a los 2000 soles\n"
          ]
        }
      ]
    }
  ]
}