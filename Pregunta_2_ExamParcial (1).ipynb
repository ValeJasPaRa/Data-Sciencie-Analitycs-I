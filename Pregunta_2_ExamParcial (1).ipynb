{
  "nbformat": 4,
  "nbformat_minor": 0,
  "metadata": {
    "colab": {
      "provenance": [],
      "toc_visible": true
    },
    "kernelspec": {
      "name": "python3",
      "display_name": "Python 3"
    },
    "language_info": {
      "name": "python"
    }
  },
  "cells": [
    {
      "cell_type": "code",
      "execution_count": null,
      "metadata": {
        "id": "jMFQvlD6ZXm_"
      },
      "outputs": [],
      "source": []
    },
    {
      "cell_type": "markdown",
      "source": [
        "# Nueva sección"
      ],
      "metadata": {
        "id": "9MmOeGHCZmkK"
      }
    },
    {
      "cell_type": "code",
      "source": [
        "cantidades = {}\n",
        "productos = {\n",
        "    'A': 150,\n",
        "    'B': 264,\n",
        "    'C': 188.90,\n",
        "    'D': 175.50\n",
        "}\n",
        "\n",
        "for producto in productos:\n",
        "    cant = int(input(\"--->Ingrese las unidades del producto \" + producto + \": \"))\n",
        "    while cant < 0:\n",
        "        print(\"**Inténtelo nuevamente, no se permiten cantidades negativas (-) .**\")\n",
        "        cant = int(input(\"--->Ingrese unidades del producto \" + producto + \": \"))\n",
        "    cantidades[producto] = cant\n",
        "\n",
        "\n",
        "peso_total = 0\n",
        "for producto, peso in productos.items():\n",
        "    peso_producto = peso * cantidades[producto]\n",
        "    peso_total += peso_producto\n",
        "\n",
        "    if peso_producto > 5000:\n",
        "        print(\"Producto \" + producto + \" con un peso superior a los 5000 gr\")\n",
        "\n",
        "#pasamos a kilos, pide en kilos que se muestre...\n",
        "pesot_kg = round(peso_total / 1000, 2)\n",
        "\n",
        "print(\"El peso total del paquete es \" + str(pesot_kg) + \" kilos.\")\n",
        "\n",
        "\n"
      ],
      "metadata": {
        "id": "FNMKMgElZqXq",
        "colab": {
          "base_uri": "https://localhost:8080/"
        },
        "outputId": "21b8def4-2197-4c6d-c46f-78715f4233e3"
      },
      "execution_count": 12,
      "outputs": [
        {
          "output_type": "stream",
          "name": "stdout",
          "text": [
            "--->Ingrese las unidades del producto A: 100\n",
            "--->Ingrese las unidades del producto B: 100\n",
            "--->Ingrese las unidades del producto C: 100\n",
            "--->Ingrese las unidades del producto D: 100\n",
            "Producto A con un peso superior a los 5000 gr\n",
            "Producto B con un peso superior a los 5000 gr\n",
            "Producto C con un peso superior a los 5000 gr\n",
            "Producto D con un peso superior a los 5000 gr\n",
            "El peso total del paquete es 77.84 kilos.\n"
          ]
        }
      ]
    }
  ]
}